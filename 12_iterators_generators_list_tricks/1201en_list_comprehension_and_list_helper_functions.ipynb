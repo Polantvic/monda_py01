{
 "cells": [
  {
   "cell_type": "markdown",
   "metadata": {},
   "source": [
    "# List Comprehension and List Helper Functions\n",
    "\n",
    "## List Comprehension\n",
    "\n",
    "List comprehension is a concise way to create lists using a for loop and an optional condition.\n",
    "\n",
    "### Exponentiation of Numbers\n",
    "\n",
    "```python\n",
    "    numbers = [1, 2, 3, 4, 5]\n",
    "    exponents = 3\n",
    "    powered_numbers = [x ** exponents for x in numbers]\n",
    "    print(powered_numbers)  # Result: [1, 8, 27, 64, 125]\n",
    "```"
   ]
  },
  {
   "cell_type": "markdown",
   "metadata": {},
   "source": [
    "### Filtering a List Based on a Logical Condition"
   ]
  },
  {
   "cell_type": "code",
   "execution_count": null,
   "metadata": {},
   "outputs": [],
   "source": [
    "numbers = [1, 2, 3, 4, 5]\n",
    "condition = lambda x: x % 2 == 0\n",
    "filtered_numbers = [x for x in numbers if condition(x)]\n",
    "print(filtered_numbers)  # Result: [2, 4]"
   ]
  },
  {
   "cell_type": "markdown",
   "metadata": {},
   "source": [
    "### Applying a Lambda Function in List Comprehension"
   ]
  },
  {
   "cell_type": "code",
   "execution_count": null,
   "metadata": {},
   "outputs": [],
   "source": [
    "numbers = [1, 2, 3, 4, 5]\n",
    "doubled_numbers = [(lambda x: x * 2)(x) for x in numbers]\n",
    "print(doubled_numbers)  # Result: [2, 4, 6, 8, 10]"
   ]
  },
  {
   "cell_type": "markdown",
   "metadata": {},
   "source": [
    "# `Assignment 1: List Comprehension`\n",
    "\n",
    "1. Create a list comprehension that `squares` the numbers from 1 to 10.\n",
    "1. Filter a list of words to extract only the words that contain the letter '`a`'.\n",
    "1. Using list comprehension, `double` each element in a list of integers.\n",
    "1. Write a list comprehension to generate a list of `even` numbers from 1 to 20."
   ]
  },
  {
   "cell_type": "code",
   "execution_count": null,
   "metadata": {},
   "outputs": [],
   "source": [
    "# Your code here\n",
    "square_list = [(lambda x: x**2)(x) for x in range(1, 11)]\n",
    "print(square_list)\n",
    "\n",
    "word_list = [\"Filter\", \"list\", \"of\", \"words\", \"extract\", \"only\", \"contain\"]\n",
    "sorted_word_list = [word_list[i] for i in range(len(word_list)) if \"a\" in word_list[i]]\n",
    "print(sorted_word_list)\n",
    "\n",
    "double_square_list = [(lambda x: x*2)(x) for x in square_list]\n",
    "print(double_square_list)\n",
    "\n",
    "even_list = [x for x in range(1,21) if x % 2 == 0]\n",
    "print(even_list)"
   ]
  },
  {
   "cell_type": "markdown",
   "metadata": {},
   "source": [
    "## List Helper Functions\n",
    "List helper functions simplify common operations on lists.\n",
    "\n",
    "### `reduce()`\n",
    "\n",
    "The `reduce()` function, from the `functools` module, accumulates list elements using a specified function."
   ]
  },
  {
   "cell_type": "code",
   "execution_count": null,
   "metadata": {},
   "outputs": [],
   "source": [
    "from functools import reduce\n",
    "import operator\n",
    "\n",
    "numbers = [1, 2, 3, 4, 5]\n",
    "sum_result = reduce(lambda x, y: x + y, numbers)\n",
    "print(sum_result)  # Result: 15\n",
    "\n",
    "max_result = reduce(lambda x, y: x if x > y else y, numbers)\n",
    "print(max_result)  # Result: 5"
   ]
  },
  {
   "cell_type": "markdown",
   "metadata": {},
   "source": [
    "### Statistical Functions\n",
    "Statistical functions provide useful information about a list."
   ]
  },
  {
   "cell_type": "code",
   "execution_count": null,
   "metadata": {},
   "outputs": [],
   "source": [
    "import statistics\n",
    "\n",
    "numbers = [1, 2, 3, 4, 5]\n",
    "print(sum(numbers))  # Result: 15\n",
    "print(max(numbers))  # Result: 5\n",
    "print(min(numbers))  # Result: 1\n",
    "print(statistics.mean(numbers))  # Result: 3.0\n",
    "print(statistics.median(numbers))  # Result: 3"
   ]
  },
  {
   "cell_type": "markdown",
   "metadata": {},
   "source": [
    "### Sorting a List\n",
    "You can use the `sort()` method to sort a list in ascending order or specify the `reverse` and `key` parameters for different sorting options."
   ]
  },
  {
   "cell_type": "code",
   "execution_count": null,
   "metadata": {},
   "outputs": [],
   "source": [
    "numbers = [3, 1, 4, 1, 5, 9, 2]\n",
    "numbers.sort()\n",
    "print(numbers)  # Result: [1, 1, 2, 3, 4, 5, 9]\n",
    "\n",
    "numbers.sort(reverse=True)\n",
    "print(numbers)  # Result: [9, 5, 4, 3, 2, 1, 1]\n",
    "\n",
    "word_list = [\"one\", \"two\", \"three\", \"four\", \"five\"]\n",
    "word_list.sort(key=len)\n",
    "print(word_list)  # Result: ['one', 'two', 'four', 'five', 'three']"
   ]
  },
  {
   "cell_type": "markdown",
   "metadata": {},
   "source": [
    "### Using the `sorted()` Function\n",
    "\n",
    "The `sorted()` function sorts a list and returns a new sorted list without modifying the original list."
   ]
  },
  {
   "cell_type": "code",
   "execution_count": null,
   "metadata": {},
   "outputs": [],
   "source": [
    "numbers = [3, 1, 4, 1, 5, 9, 2]\n",
    "sorted_numbers = sorted(numbers)\n",
    "print(sorted_numbers)  # Result: [1, 1, 2, 3, 4, 5, 9]"
   ]
  },
  {
   "cell_type": "markdown",
   "metadata": {},
   "source": [
    "# `Assignment 2: List Helper Functions`\n",
    "\n",
    "1. Calculate the sum of numbers in a list using the `reduce()` function.\n",
    "1. Find the maximum value in a list using the `reduce()` function.\n",
    "1. Calculate the mean (average) of a list using the `statistics` module.\n",
    "1. Sort a list of words in alphabetical order using the `sort()` method.\n",
    "1. Sort a list of numbers in descending order using the `sort()` method."
   ]
  },
  {
   "cell_type": "code",
   "execution_count": null,
   "metadata": {},
   "outputs": [],
   "source": [
    "# Your code here"
   ]
  },
  {
   "cell_type": "markdown",
   "metadata": {},
   "source": [
    "## Sorting Objects in a List\n",
    "You can sort objects in a list based on specific attributes or multiple attributes.\n",
    "\n",
    "Let's assume we have a list of `Student` objects and we want to sort them based on their `name` attributes:"
   ]
  },
  {
   "cell_type": "code",
   "execution_count": null,
   "metadata": {},
   "outputs": [],
   "source": [
    "class Student:\n",
    "    def __init__(self, name, surname, grades):\n",
    "        self.name = name\n",
    "        self.surname = surname\n",
    "        self.grades = grades\n",
    "\n",
    "    def average(self):\n",
    "        return sum(self.grades) / len(self.grades)\n",
    "\n",
    "students = [\n",
    "    Student(\"John\", \"Doe\", [8, 9, 7]),\n",
    "    Student(\"Peter\", \"Smith\", [10, 9, 10]),\n",
    "    Student(\"Anna\", \"Johnson\", [6, 8, 7]),\n",
    "]\n",
    "\n",
    "sorted_students = sorted(students, key=lambda student: student.name)\n",
    "for student in sorted_students:\n",
    "    print(f\"{student.name} {student.surname} {student.average()}\")\n"
   ]
  },
  {
   "cell_type": "markdown",
   "metadata": {},
   "source": [
    "### Using `attrgetter()`\n",
    "\n",
    "The `attrgetter()` function from the `operator` module allows you to sort objects based on their attributes."
   ]
  },
  {
   "cell_type": "code",
   "execution_count": null,
   "metadata": {},
   "outputs": [],
   "source": [
    "from operator import attrgetter\n",
    "\n",
    "class Student:\n",
    "    def __init__(self, name, surname, grades):\n",
    "        self.name = name\n",
    "        self.surname = surname\n",
    "        self.grades = grades\n",
    "\n",
    "    def average(self):\n",
    "        return sum(self.grades) / len(self.grades)\n",
    "\n",
    "students = [\n",
    "    Student(\"John\", \"Doe\", [8, 9, 7]),\n",
    "    Student(\"Peter\", \"Smith\", [10, 9, 10]),\n",
    "    Student(\"Anna\", \"Johnson\", [6, 8, 7]),\n",
    "]\n",
    "\n",
    "sorted_students = sorted(students, key=attrgetter(\"name\"))\n",
    "for student in sorted_students:\n",
    "    print(f\"{student.name} {student.surname} {student.average()}\")\n"
   ]
  },
  {
   "cell_type": "markdown",
   "metadata": {},
   "source": [
    "If you want to sort by multiple attributes, you can provide them as arguments to `attrgetter()`:"
   ]
  },
  {
   "cell_type": "code",
   "execution_count": null,
   "metadata": {},
   "outputs": [],
   "source": [
    "sorted_students = sorted(students, key=attrgetter(\"surname\", \"name\"))\n",
    "for student in sorted_students:\n",
    "    print(f\"{student.surname} {student.name} {student.average()}\")"
   ]
  },
  {
   "cell_type": "markdown",
   "metadata": {},
   "source": [
    "# `Assignment 3: Sorting Objects in a List`\n",
    "\n",
    "1. Create a class named `Product` with attributes for `name`, `price`, and `quantity`. Create a list of `Product` objects.\n",
    "1. Sort the list of `Product` objects by price in `ascending` order without using `attrgetter()`.\n",
    "1. Sort the same list of `Product` objects by quantity in `descending` order using `attrgetter()`.\n",
    "1. Sort a list of `Person` objects by age, where each `Person` has attributes for `name` and `age`."
   ]
  },
  {
   "cell_type": "code",
   "execution_count": null,
   "metadata": {},
   "outputs": [],
   "source": [
    "# Your code here"
   ]
  },
  {
   "cell_type": "markdown",
   "metadata": {},
   "source": [
    "## List Definition\n",
    "\n",
    "List comprehension and list helper functions provide powerful tools for working with lists. Whether you need to create new lists, perform calculations, filter data, or sort objects within lists, these techniques can streamline your code."
   ]
  }
 ],
 "metadata": {
  "kernelspec": {
   "display_name": "Python 3",
   "language": "python",
   "name": "python3"
  },
  "language_info": {
   "codemirror_mode": {
    "name": "ipython",
    "version": 3
   },
   "file_extension": ".py",
   "mimetype": "text/x-python",
   "name": "python",
   "nbconvert_exporter": "python",
   "pygments_lexer": "ipython3",
   "version": "3.11.7"
  }
 },
 "nbformat": 4,
 "nbformat_minor": 2
}
