{
 "cells": [
  {
   "cell_type": "markdown",
   "metadata": {},
   "source": [
    "# Time Zones\n",
    "\n",
    "### Aware and Naive Date/Time Objects\n",
    "\n",
    "In the Python datetime module, there are two main types of date and time objects: \"aware\" and \"naive.\" \"Naive\" date and time objects lack information about time zones or switching to summer time, making them inconvenient when dealing with changes in time zones. \n",
    "\n",
    "\"Aware\" objects contain information about time zones and switching to summer time.\n",
    "\n",
    "### `datetime.utcnow()`\n",
    "\n",
    "To obtain the current time in Coordinated Universal Time (UTC), you can use the datetime.utcnow() function:\n",
    "\n"
   ]
  },
  {
   "cell_type": "code",
   "execution_count": null,
   "metadata": {},
   "outputs": [],
   "source": [
    "\n",
    "from datetime import datetime\n",
    "\n",
    "utc_now = datetime.utcnow()\n",
    "print(utc_now)\n"
   ]
  },
  {
   "cell_type": "markdown",
   "metadata": {},
   "source": [
    "\n",
    "### Time Zone List, zoneinfo Module\n",
    "\n",
    "In Python 3.9 and later versions, the zoneinfo module allows working with time zones:\n",
    "\n"
   ]
  },
  {
   "cell_type": "code",
   "execution_count": null,
   "metadata": {},
   "outputs": [],
   "source": [
    "\n",
    "from zoneinfo import ZoneInfo\n",
    "from datetime import datetime\n",
    "\n",
    "# Create an \"aware\" datetime object with a specified time zone\n",
    "time = datetime(2023, 4, 12, 18, 30, tzinfo=ZoneInfo(\"Europe/Vilnius\"))\n",
    "print(time)\n",
    "\n"
   ]
  },
  {
   "cell_type": "markdown",
   "metadata": {},
   "source": [
    "\n",
    "You can use this module to output a list of time zones it supports:\n",
    "\n"
   ]
  },
  {
   "cell_type": "code",
   "execution_count": null,
   "metadata": {},
   "outputs": [],
   "source": [
    "from zoneinfo import available_timezones\n",
    "\n",
    "for time_zone in available_timezones():\n",
    "    print(time_zone)\n",
    "    \n"
   ]
  },
  {
   "cell_type": "markdown",
   "metadata": {},
   "source": [
    "### Quick Assignement 1\n",
    "\n",
    "Write a program that outputs a list of all time zones with \"America\" in their name."
   ]
  },
  {
   "cell_type": "code",
   "execution_count": null,
   "metadata": {},
   "outputs": [],
   "source": [
    "from zoneinfo import available_timezones\n",
    "\n",
    "for zone in available_timezones():\n",
    "    if \"America\" in zone:\n",
    "        print(zone)"
   ]
  },
  {
   "cell_type": "markdown",
   "metadata": {},
   "source": [
    "### `datetime.tzinfo`\n",
    "\n",
    "datetime.tzinfo is an abstract class used to store time zone information. You can use functions from the `zoneinfo` module to populate the `tzinfo` attribute when creating a new \"aware\" datetime object:\n"
   ]
  },
  {
   "cell_type": "code",
   "execution_count": 76,
   "metadata": {},
   "outputs": [
    {
     "name": "stdout",
     "output_type": "stream",
     "text": [
      "Europe/Vilnius\n"
     ]
    }
   ],
   "source": [
    "\n",
    "from datetime import datetime\n",
    "from zoneinfo import ZoneInfo\n",
    "\n",
    "time = datetime(2023, 4, 12, 18, 30, tzinfo=ZoneInfo(\"Europe/Vilnius\"))\n",
    "print(time.tzinfo)\n",
    "\n"
   ]
  },
  {
   "cell_type": "markdown",
   "metadata": {},
   "source": [
    "\n",
    "### Specifying Time Zone in datetime.datetime Object\n",
    "\n",
    "To specify the time zone in a datetime.datetime object, you can use the replace() function or the astimezone() function.\n",
    "\n",
    "Example with replace():\n"
   ]
  },
  {
   "cell_type": "code",
   "execution_count": 10,
   "metadata": {},
   "outputs": [
    {
     "name": "stdout",
     "output_type": "stream",
     "text": [
      "2024-01-18 03:58:59.369992+02:00\n"
     ]
    }
   ],
   "source": [
    "\n",
    "from datetime import datetime\n",
    "from zoneinfo import ZoneInfo\n",
    "\n",
    "utc_now = datetime.utcnow()\n",
    "vilnius_time = utc_now.replace(tzinfo=ZoneInfo(\"UTC\")).astimezone(ZoneInfo(\"Europe/Vilnius\"))\n",
    "print(vilnius_time)\n"
   ]
  },
  {
   "cell_type": "markdown",
   "metadata": {},
   "source": [
    "\n",
    "Example with astimezone():\n"
   ]
  },
  {
   "cell_type": "code",
   "execution_count": 75,
   "metadata": {},
   "outputs": [
    {
     "name": "stdout",
     "output_type": "stream",
     "text": [
      "2024-01-18 17:48:56.192847+02:00\n"
     ]
    }
   ],
   "source": [
    "\n",
    "\n",
    "from datetime import datetime\n",
    "from zoneinfo import ZoneInfo\n",
    "\n",
    "utc_now = datetime.utcnow().replace(tzinfo=ZoneInfo(\"UTC\"))\n",
    "vilnius_time = utc_now.astimezone(ZoneInfo(\"Europe/Vilnius\"))\n",
    "print(vilnius_time)\n"
   ]
  },
  {
   "cell_type": "markdown",
   "metadata": {},
   "source": [
    "\n",
    "Both examples first create a datetime.datetime object reflecting the current time in Coordinated Universal Time (UTC). Then, they use the replace() or astimezone() function to change the time zone to \"Europe/Vilnius\" and output the result on the screen."
   ]
  },
  {
   "cell_type": "markdown",
   "metadata": {},
   "source": [
    "### Quick Assignement 2\n",
    "\n",
    "Write a program that asks the user for the time in HH:MM(:SS) format, where seconds are not necessary. Then ask for a time zone. Print the entered time in the following time zones: Sydney, Dubai, Vilnius, London, New York and Los Angeles."
   ]
  },
  {
   "cell_type": "code",
   "execution_count": 109,
   "metadata": {},
   "outputs": [
    {
     "name": "stdout",
     "output_type": "stream",
     "text": [
      "Your        time - 12:34:00 Europe/Vilnius\n",
      "\n",
      "Sydney      time - 21:34:00 Australia/Sydney\n",
      "London      time - 10:34:00 Europe/London\n",
      "New_York    time - 05:34:00 America/New_York\n",
      "Dubai       time - 14:34:00 Asia/Dubai\n",
      "Vilnius     time - 12:34:00 Europe/Vilnius\n",
      "Los_Angeles time - 02:34:00 America/Los_Angeles\n"
     ]
    }
   ],
   "source": [
    "from datetime import datetime\n",
    "from zoneinfo import ZoneInfo, available_timezones\n",
    "\n",
    "user_time = input('Enter your time \"HH:MM(:SS)\"\": ')\n",
    "user_time_zone = input('Enter your time zone \"Zone/City\": ')\n",
    "\n",
    "user_date = datetime.today()\n",
    "user_date = user_date.strftime(\"%Y:%m:%d\")\n",
    "\n",
    "if len(user_time) > 5:\n",
    "    user_time = datetime.strptime(user_date + user_time, \"%Y:%m:%d%H:%M:%S\")\n",
    "else:\n",
    "    user_time = datetime.strptime(user_date + user_time, \"%Y:%m:%d%H:%M\")\n",
    "print(f'{\"Your\":11} time - {user_time.time()} {user_time_zone}')\n",
    "print()\n",
    "\n",
    "time_zones_city = [\"Sydney\", \"Dubai\", \"Vilnius\", \"London\", \"New_York\", \"Los_Angeles\"]\n",
    "for zone in available_timezones():\n",
    "    for city in time_zones_city:\n",
    "        if city in zone:\n",
    "            time_in_zone = user_time.replace(tzinfo=ZoneInfo(user_time_zone)).astimezone(ZoneInfo(zone))\n",
    "            print(f\"{city:11} time -\", time_in_zone.time(), zone)\n",
    "\n"
   ]
  }
 ],
 "metadata": {
  "kernelspec": {
   "display_name": "Python 3",
   "language": "python",
   "name": "python3"
  },
  "language_info": {
   "codemirror_mode": {
    "name": "ipython",
    "version": 3
   },
   "file_extension": ".py",
   "mimetype": "text/x-python",
   "name": "python",
   "nbconvert_exporter": "python",
   "pygments_lexer": "ipython3",
   "version": "3.11.7"
  }
 },
 "nbformat": 4,
 "nbformat_minor": 2
}
