{
 "cells": [
  {
   "cell_type": "markdown",
   "metadata": {},
   "source": [
    "# Decorators\n"
   ]
  },
  {
   "cell_type": "markdown",
   "metadata": {},
   "source": [
    "\n",
    "\n",
    "Decorators in Python are higher-order functions used to modify or extend the behavior of functions or methods without changing their code. Higher-order functions are those that take other functions as arguments or return functions as results.\n",
    "\n",
    "### Declaration of a decorator, wrapper:\n",
    "\n",
    "A decorator is a function that takes another function as an argument and returns a new function that additionally combines or modifies the behavior of the existing function. The wrapper function is the one created and returned during the decorator's execution.\n",
    "\n",
    "Example:\n",
    "\n"
   ]
  },
  {
   "cell_type": "code",
   "execution_count": null,
   "metadata": {},
   "outputs": [],
   "source": [
    "def decorator(func):\n",
    "    def wrapper(*args, **kwargs):\n",
    "        print(\"Before calling the function\")\n",
    "        result = func(*args, **kwargs)\n",
    "        print(\"After calling the function\")\n",
    "        return result\n",
    "    return wrapper\n"
   ]
  },
  {
   "cell_type": "markdown",
   "metadata": {},
   "source": [
    "\n",
    "Decorator example:\n"
   ]
  },
  {
   "cell_type": "code",
   "execution_count": null,
   "metadata": {},
   "outputs": [],
   "source": [
    "def greeting_decorator(func):\n",
    "    def wrapper(name):\n",
    "        print(f\"Hello, {name}!\")\n",
    "        func(name)\n",
    "    return wrapper\n",
    "\n",
    "@greeting_decorator\n",
    "def farewell(name):\n",
    "    print(f\"Goodbye, {name}!\")\n",
    "\n",
    "farewell(\"John\")"
   ]
  },
  {
   "cell_type": "markdown",
   "metadata": {},
   "source": [
    "\n",
    "\n",
    "In this example, the greeting decorator takes the farewell function as an argument and returns the `wrapper` function. The wrapper function prints a greeting, calls the farewell function with the same name, and is invoked when `farewell(\"John\")` is called.\n",
    "\n",
    "Another example:\n",
    "\n"
   ]
  },
  {
   "cell_type": "code",
   "execution_count": null,
   "metadata": {},
   "outputs": [],
   "source": [
    "\n",
    "def check_positive_numbers(func):\n",
    "    def wrapper(*args, **kwargs):\n",
    "        if all(arg > 0 for arg in args):\n",
    "            result = func(*args, **kwargs)\n",
    "        else:\n",
    "            result = \"Error: all arguments must be positive\"\n",
    "        return result\n",
    "    return wrapper\n",
    "\n",
    "@check_positive_numbers\n",
    "def multiplication(x, y):\n",
    "    return x * y\n",
    "\n",
    "result1 = multiplication(3, 5)\n",
    "print(f\"Multiplication result: {result1}\")\n",
    "\n",
    "result2 = multiplication(-2, 4)\n",
    "print(f\"Multiplication result: {result2}\")\n"
   ]
  },
  {
   "cell_type": "markdown",
   "metadata": {},
   "source": [
    "\n",
    "In this example, check_positive_numbers is a decorator that takes the multiplication function as an argument and returns the wrapper function. The wrapper function checks if all arguments are positive before calling the multiplication function.\n",
    "\n"
   ]
  },
  {
   "cell_type": "markdown",
   "metadata": {},
   "source": [
    "\n",
    "## Examples of Decorators in Python Programming:\n"
   ]
  },
  {
   "cell_type": "markdown",
   "metadata": {},
   "source": [
    "\n",
    "### @property decorator:\n"
   ]
  },
  {
   "cell_type": "markdown",
   "metadata": {},
   "source": [
    "\n",
    "The @property decorator is used when defining getter methods for class attributes. It allows accessing the function result as if it were a class attribute, rather than a method.\n",
    "\n"
   ]
  },
  {
   "cell_type": "code",
   "execution_count": null,
   "metadata": {},
   "outputs": [],
   "source": [
    "\n",
    "class Person:\n",
    "    def __init__(self, name, surname):\n",
    "        self._name = name\n",
    "        self._surname = surname\n",
    "\n",
    "    @property\n",
    "    def full_name(self):\n",
    "        return f\"{self._name} {self._surname}\"\n",
    "        \n"
   ]
  },
  {
   "cell_type": "markdown",
   "metadata": {},
   "source": [
    "## Quick Assignement 1\n",
    "\n",
    "Create a class Student with attributes first_name, last_name and age. Add three methods:\n",
    "\n",
    "full_name(): Returns the student's full name using the @property decorator.\n",
    "\n",
    "is_mature(): Returns True if the student's age is greater than or equal to 18, and \n",
    "False if not. Use the @staticmethod decorator.\n",
    "\n",
    "create_student(cls, firstname: str, lastname: str, age: int): Returns a new Student object. Use the @classmethod decorator.\n",
    "\n",
    "Create several student objects using the create_student() method of the class and test all the methods.\n",
    "​"
   ]
  },
  {
   "cell_type": "markdown",
   "metadata": {},
   "source": [
    "### @staticmethod decorator:\n",
    "\n",
    "The `@staticmethod` decorator is used to define static methods in a class. Static methods can be called at the class level without an instance of the object and are independent of the object's state.\n",
    "\n"
   ]
  },
  {
   "cell_type": "code",
   "execution_count": null,
   "metadata": {},
   "outputs": [],
   "source": [
    "\n",
    "class Math:\n",
    "    @staticmethod\n",
    "    def addition(x, y):\n",
    "        return x + y\n",
    "\n",
    "result = Math.addition(3, 5)\n",
    "print(result)\n",
    "\n",
    "setattr"
   ]
  },
  {
   "cell_type": "markdown",
   "metadata": {},
   "source": [
    "\n",
    "### @classmethod decorator:\n",
    "The `@classmethod` decorator is used to define class methods that take the class itself as the first argument (usually named \"cls\"). Class methods can be called at both the class and object levels and always return class attributes.\n"
   ]
  },
  {
   "cell_type": "code",
   "execution_count": null,
   "metadata": {},
   "outputs": [],
   "source": [
    "\n",
    "\n",
    "class Car:\n",
    "    _manufacturer = \"Toyota\"\n",
    "\n",
    "    @classmethod\n",
    "    def manufacturer(cls):\n",
    "        return cls._manufacturer\n",
    "\n",
    "print(Car.manufacturer())\n"
   ]
  },
  {
   "cell_type": "markdown",
   "metadata": {},
   "source": [
    "\n",
    "### Decorator Docstrings:\n",
    "\n",
    "Docstrings are longer comments describing a function's behavior, parameters, and return values. They are written between triple quotes and must be at the beginning of the function before its code.\n"
   ]
  },
  {
   "cell_type": "code",
   "execution_count": null,
   "metadata": {},
   "outputs": [],
   "source": [
    "\n",
    "def decorator(func):\n",
    "    \"\"\"\n",
    "    A decorator that prints a message before and after calling the function.\n",
    "\n",
    "    Args:\n",
    "        func (callable): The function to be decorated.\n",
    "    \"\"\"\n",
    "    def wrapper(*args, **kwargs):\n",
    "        print(\"The function will be called\")\n",
    "        result = func(*args, **kwargs)\n",
    "        print(\"The function has been called\")\n",
    "        return result\n",
    "    return wrapper\n",
    "\n",
    "    \n"
   ]
  },
  {
   "cell_type": "markdown",
   "metadata": {},
   "source": [
    "### Decorator Annotations:\n",
    "\n",
    "Annotations provide hints about the types of variables. They help better understand the types of data that a function takes and returns. Annotations are optional and do not affect the program's execution.\n"
   ]
  },
  {
   "cell_type": "code",
   "execution_count": null,
   "metadata": {},
   "outputs": [],
   "source": [
    "\n",
    "from typing import Callable, Any\n",
    "\n",
    "def decorator(func: Callable[..., Any]) -> Callable[..., Any]:\n",
    "    def wrapper(*args, **kwargs) -> Any:\n",
    "        print(\"The function will be called\")\n",
    "        result = func(*args, **kwargs)\n",
    "        print(\"The function has been called\")\n",
    "        return result\n",
    "    return wrapper\n",
    "    \n"
   ]
  },
  {
   "cell_type": "markdown",
   "metadata": {},
   "source": [
    "### Using the `@wraps()` Decorator:\n",
    "\n",
    "Inside a decorator, an inner function (usually called wrapper) is created to invoke the original function. However, this behavior may cause issues as the inner function's attributes can overshadow the original function's attributes. To avoid this problem, the functools.wraps() decorator is often used.\n",
    "\n"
   ]
  },
  {
   "cell_type": "code",
   "execution_count": null,
   "metadata": {},
   "outputs": [],
   "source": [
    "\n",
    "from functools import wraps\n",
    "from typing import Callable, Any\n",
    "\n",
    "def decorator(func: Callable[..., Any]) -> Callable[..., Any]:\n",
    "    @wraps(func)\n",
    "    def wrapper(*args, **kwargs) -> Any:\n",
    "        print(\"The function will be called\")\n",
    "        result = func(*args, **kwargs)\n",
    "        print(\"The function has been called\")\n",
    "        return result\n",
    "    return wrapper\n",
    "\n",
    "@decorator\n",
    "def example_function(a: int, b: int) -> int:\n",
    "    \"\"\"\n",
    "    A function that adds two numbers and returns the result.\n",
    "\n",
    "    Args:\n",
    "        a (int): The first number.\n",
    "        b (int): The second number.\n",
    "    Returns:\n",
    "        int: The sum of the numbers.\n",
    "    \"\"\"\n",
    "    return a + b\n",
    "\n",
    "print(example_function(3, 5))  # Output: The function will be called, The function has been called, 8\n",
    "print(example_function.__name__)  # Output: example_function\n",
    "print(example_function.__doc__)  # Output: A function that adds two numbers and returns the result...\n",
    "\n"
   ]
  },
  {
   "cell_type": "markdown",
   "metadata": {},
   "source": [
    "\n",
    "### Creating Decorators with Parameters:\n",
    "\n",
    "Decorators with parameters allow you to pass additional parameters to the decorator, making it more flexible and adaptable to different situations. To create a decorator with parameters, an additional outer function is created, which returns the actual decorator.\n",
    "\n"
   ]
  },
  {
   "cell_type": "code",
   "execution_count": null,
   "metadata": {},
   "outputs": [],
   "source": []
  },
  {
   "cell_type": "code",
   "execution_count": null,
   "metadata": {},
   "outputs": [],
   "source": [
    "\n",
    "from functools import wraps\n",
    "from typing import Callable, Any\n",
    "\n",
    "def repeat_decorator(times: int):\n",
    "    def actual_decorator(func: Callable[..., Any]) -> Callable[..., Any]:\n",
    "        @wraps(func)\n",
    "        def wrapper(*args, **kwargs) -> Any:\n",
    "            for _ in range(times):\n",
    "                result = func(*args, **kwargs)\n",
    "            return result\n",
    "        return wrapper\n",
    "    return actual_decorator\n",
    "\n",
    "@repeat_decorator(3)\n",
    "def print_message(message: str) -> None:\n",
    "    print(message)\n",
    "\n",
    "print_message(\"Hello!\")  # Output: Hello! Hello! Hello!\n",
    "\n"
   ]
  },
  {
   "cell_type": "markdown",
   "metadata": {},
   "source": [
    "\n",
    "In this example, the `repeat_decorator` function takes the times parameter, indicating how many times the decorated function should be called. The actual_decorator function is returned by the outer function, and it works as a standard decorator.\n"
   ]
  },
  {
   "cell_type": "markdown",
   "metadata": {},
   "source": [
    "## Quick Assignement 2\n",
    "\n",
    "Write a decorator that:\n",
    "\n",
    "converts all text `*args` and `**kwargs` of the decorated function to uppercase.\n",
    "converts all text results of the function to uppercase."
   ]
  },
  {
   "cell_type": "markdown",
   "metadata": {},
   "source": [
    "\n",
    "### Multiple Decorators on One Function:\n",
    "\n",
    "You can use multiple decorators on a single function, but keep in mind that they will be applied in a specific order. The first decorator will be applied last, the second decorator will be applied second to last, and so on.\n",
    "\n"
   ]
  },
  {
   "cell_type": "code",
   "execution_count": null,
   "metadata": {},
   "outputs": [],
   "source": [
    "\n",
    "from functools import wraps\n",
    "from typing import Callable, Any\n",
    "\n",
    "def print_before_decorator(func: Callable[..., Any]) -> Callable[..., Any]:\n",
    "    @wraps(func)\n",
    "    def wrapper(*args, **kwargs) -> Any:\n",
    "        print(\"The function will be called\")\n",
    "        return func(*args, **kwargs)\n",
    "    return wrapper\n",
    "\n",
    "def print_after_decorator(func: Callable[..., Any]) -> Callable[..., Any]:\n",
    "    @wraps(func)\n",
    "    def wrapper(*args, **kwargs) -> Any:\n",
    "        result = func(*args, **kwargs)\n",
    "        print(\"The function has been called\")\n",
    "        return result\n",
    "    return wrapper\n",
    "\n",
    "@print_before_decorator\n",
    "@print_after_decorator\n",
    "def add_numbers(a: int, b: int) -> int:\n",
    "    return a + b\n",
    "\n",
    "result = add_numbers(3, 5)  # Output: The function will be called, The function has been called\n",
    "print(result)  # Output: 8\n"
   ]
  },
  {
   "cell_type": "markdown",
   "metadata": {},
   "source": [
    "\n",
    "In this example, the add_numbers function is decorated with two decorators: print_before_decorator and print_after_decorator. The order of application is important, and the output will reflect the order of decoration."
   ]
  },
  {
   "cell_type": "markdown",
   "metadata": {},
   "source": [
    "## Quick Assignement 3"
   ]
  },
  {
   "cell_type": "markdown",
   "metadata": {},
   "source": [
    "Write a function to find a prime number\n",
    "\n",
    "Write an unbounded prime number generator\n",
    "\n",
    "Write a decorator to measure the time of the function\n",
    "\n",
    "Make a function that has a loop to print finding a sequence of prime numbers until finding the current prime number in the sequence takes more than 0.01 seconds.\n",
    "print the duration of the entire process using the decorator"
   ]
  },
  {
   "cell_type": "code",
   "execution_count": null,
   "metadata": {},
   "outputs": [],
   "source": [
    "'''Sukurkite klasę Studentas su atributais vardas, pavarde ir amzius. Pridėkite tris metodus:\n",
    "\n",
    "pilnas_vardas(): Grąžina pilną studento vardą, naudojant @property dekoratorių.\n",
    "ar_pilnametis(): Grąžina True, jei studento amžius yra didesnis arba lygus 18, ir False, jei ne. Naudokite @staticmethod dekoratorių.\n",
    "sukurti_studenta(cls, vardas: str, pavarde: str, amzius: int): Grąžina naują Studentas objektą. Naudokite @classmethod dekoratorių.\n",
    "Sukurkite keletą studentų objektų, naudojant klasės metodą sukurti_studenta(), ir išbandykite visus metodus.'''\n",
    "\n",
    "class Studentas:\n",
    "    def __init__(self, vardas, pavarde, amzius) -> None:\n",
    "        self.vardas = vardas\n",
    "        self.pavarde = pavarde\n",
    "        self.amzius = amzius\n",
    "    \n",
    "    def __str__(self) -> str:\n",
    "        return f\"{self.vardas} {self.pavarde} {self.amzius}\"\n",
    "    \n",
    "    @property\n",
    "    def pilnas_vardas(self):\n",
    "        return f'{self.vardas} {self.pavarde}'\n",
    "    \n",
    "    @staticmethod\n",
    "    def ar_pilnametis(amzius):\n",
    "        return amzius >= 18\n",
    "    \n",
    "    @classmethod\n",
    "    def sukurti_studenta(cls, vardas, pavarde, amzius):\n",
    "        return cls (vardas, pavarde, amzius)\n",
    "\n",
    "student01 = Studentas(\"Jonas\", \"Jonaitis\", 32)\n",
    "student02 = Studentas(\"Ona\", \"Onaite\", \"14\")\n",
    "\n",
    "print(student01.ar_pilnametis(21))\n",
    "print(student02)\n",
    "print(Studentas.sukurti_studenta(\"sds\", \"asdasd\", 34))\n",
    "print(Studentas(\"Jon\", \"Jonaitis\", 32).pilnas_vardas)\n"
   ]
  },
  {
   "cell_type": "code",
   "execution_count": null,
   "metadata": {},
   "outputs": [],
   "source": [
    "\"\"\"Parašykite dekoratorių, kuris:\n",
    "\n",
    "visus dekoruotos funkcijos tekstinius argus ir kwargus paverčia didžiosiomis raidėmis.\n",
    "visus funkcijos teksinius rezultatus paverčia didžiosiomis raidėmis.\"\"\"\n",
    "\n",
    "def big_arguments(func):\n",
    "    def wrapper(*args,**kwargs):\n",
    "        new_args = []\n",
    "        new_kwargs = {}\n",
    "        for arg in args:\n",
    "            new_args.append(arg.upper())\n",
    "        for kwarg in kwargs.items():\n",
    "            new_kwargs += kwarg.upper()\n",
    "        print(f'Rezult inside \"wrapper\" {new_args}')\n",
    "        result = func(*new_args,**kwargs)\n",
    "        new_args = []\n",
    "        for rez in result:\n",
    "            new_args.append(rez.upper())\n",
    "        return new_args     \n",
    "    return wrapper\n",
    "\n",
    "@big_arguments\n",
    "def letter(*args):\n",
    "    letter_args = []\n",
    "    for arg in args:\n",
    "        letter_args.append(arg.lower())\n",
    "    print(f'Rezult inside \"letter\" {letter_args}')\n",
    "    return letter_args\n",
    "\n",
    "final_result = letter(\"visus funkcijos teksinius rezultatus paverčia didžiosiomis raidėmis\", \"yyTTTTT\")\n",
    "print(f'Rezult after decorator {final_result}')"
   ]
  },
  {
   "cell_type": "code",
   "execution_count": null,
   "metadata": {},
   "outputs": [],
   "source": [
    "\"\"\"Parašykite funkciją rasti pirminį skaičių\n",
    "Parašykite neribotą pirminių skaičių generatorių\n",
    "Parašykite dekoratorių matuoti funkcijos laikui\n",
    "Padarykite funkciją, kuri turi ciklą printinimui pirminių skaičių sekos radimui iki tol, kol einamo pirminio sekos skaičiaus radimas tuks ilgiau negu 0,01 sekundės.\n",
    "išspausdinkite viso proceso trukmę, panaudojant dekoratorių\"\"\"\n",
    "\n"
   ]
  }
 ],
 "metadata": {
  "kernelspec": {
   "display_name": "Python 3",
   "language": "python",
   "name": "python3"
  },
  "language_info": {
   "codemirror_mode": {
    "name": "ipython",
    "version": 3
   },
   "file_extension": ".py",
   "mimetype": "text/x-python",
   "name": "python",
   "nbconvert_exporter": "python",
   "pygments_lexer": "ipython3",
   "version": "3.11.7"
  }
 },
 "nbformat": 4,
 "nbformat_minor": 2
}
