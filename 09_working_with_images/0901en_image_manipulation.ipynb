{
 "cells": [
  {
   "cell_type": "markdown",
   "metadata": {},
   "source": [
    "# Pillow Library\n",
    "\n",
    "**Pillow** is a popular Python library that allows for various image manipulations. \n",
    "It is not installed by default, so we need to install it. \n",
    "\n",
    "In the terminal, execute the command:\n",
    "\n",
    "```bash\n",
    "pip install pillow"
   ]
  },
  {
   "cell_type": "markdown",
   "metadata": {},
   "source": [
    "## Resizing an Image"
   ]
  },
  {
   "cell_type": "code",
   "execution_count": null,
   "metadata": {},
   "outputs": [],
   "source": [
    "from PIL import Image\n",
    "\n",
    "image = Image.open(\"image.jpg\")\n",
    "width, height = (400, 300)\n",
    "new_size = (width, height)  # Replace \"width\" and \"height\" with desired parameters, e.g., (60, 80)\n",
    "resized_image = image.resize(new_size)\n",
    "resized_image.save(\"resized_image.jpg\")"
   ]
  },
  {
   "cell_type": "markdown",
   "metadata": {},
   "source": [
    "# `Quick assignment 1: Install Pillow, Resizing an Image`\n",
    "\n",
    "1. Install `Pillow` library using the terminal or command prompt and verify the installation.\n",
    "2. Write a Python script to `resize` an image to a specified `width` and `height`. \n",
    "3. Test it with `different dimensions`."
   ]
  },
  {
   "cell_type": "code",
   "execution_count": null,
   "metadata": {},
   "outputs": [],
   "source": [
    "# Your code here\n",
    "from PIL import Image\n",
    "\n",
    "image = Image.open(\"1.jpg\")\n",
    "new_size = (100, 100)\n",
    "resized_image = image.resize(new_size)\n",
    "resized_image\n"
   ]
  },
  {
   "cell_type": "markdown",
   "metadata": {},
   "source": [
    "## Cropping an Image\n",
    "\n",
    "Note that coordinates are calculated from `left to right for X` and `from top to bottom for Y`."
   ]
  },
  {
   "cell_type": "code",
   "execution_count": null,
   "metadata": {},
   "outputs": [],
   "source": [
    "from PIL import Image\n",
    "\n",
    "image = Image.open(\"image.jpg\")\n",
    "crop_area = (800, 300, 1100, 950)  # Define the crop area as a tuple (left, top, right, bottom)\n",
    "cropped_image = image.crop(crop_area)\n",
    "cropped_image.save(\"image_cropped.jpg\")"
   ]
  },
  {
   "cell_type": "markdown",
   "metadata": {},
   "source": [
    "- In the given code snippet, the crop area is set to `(800, 300, 1100, 950)`. This means that the cropped image will include pixels from the original image starting at x-coordinate 800 (left), y-coordinate 300 (top), up to x-coordinate 1100 (right), and down to y-coordinate 950 (bottom)."
   ]
  },
  {
   "cell_type": "markdown",
   "metadata": {},
   "source": [
    "# `Quick assignment 2: Cropping an Image`\n",
    "\n",
    "1. `Crop` a specific region from downloaded image using Python. \n",
    "2. Experiment with different coordinates for cropping."
   ]
  },
  {
   "cell_type": "code",
   "execution_count": null,
   "metadata": {},
   "outputs": [],
   "source": [
    "# Your code here\n",
    "from PIL import Image\n",
    "\n",
    "image = Image.open(\"image.jpg\")\n",
    "crop_size = (100, 500, 300, 700)\n",
    "crop_image = image.crop(crop_size)\n",
    "crop_image.save(\"2.jpg\")\n",
    "crop_image\n"
   ]
  },
  {
   "cell_type": "markdown",
   "metadata": {},
   "source": [
    "## Creating Thumbnails"
   ]
  },
  {
   "cell_type": "code",
   "execution_count": null,
   "metadata": {},
   "outputs": [],
   "source": [
    "image = Image.open(\"image.jpg\")\n",
    "thumbnail_size = (width, height)\n",
    "image.thumbnail(thumbnail_size)\n",
    "image.save(\"image_thumbnail.jpg\")"
   ]
  },
  {
   "cell_type": "markdown",
   "metadata": {},
   "source": [
    "# `Quick assignment 3: Creating Thumbnails`\n",
    "\n",
    "1. Develop a Python program to generate a `thumbnail` version of your image. \n",
    "1. Adjust the `thumbnail` `size` and observe the results."
   ]
  },
  {
   "cell_type": "markdown",
   "metadata": {},
   "source": [
    "## Splitting and Merging Pixels\n",
    "Images on computers are commonly stored using the `RGB color model`, where each color consists of three primary components: red (`R`), green (`G`), and blue (`B`). \n",
    "\n",
    "This example demonstrates how to separate these components and merge them back into one image."
   ]
  },
  {
   "cell_type": "code",
   "execution_count": null,
   "metadata": {},
   "outputs": [],
   "source": [
    "from PIL import Image\n",
    "\n",
    "def split_and_merge(image):\n",
    "    image_r, image_g, image_b = image.split()\n",
    "    merged_image = Image.merge(\"RGB\", (image_r, image_g, image_b))\n",
    "    return merged_image\n",
    "\n",
    "image = Image.open(\"image.jpg\")\n",
    "merged_image = split_and_merge(image)\n",
    "merged_image.save(\"image_merged.jpg\")"
   ]
  },
  {
   "cell_type": "markdown",
   "metadata": {},
   "source": [
    "# `Quick assignment 4: Splitting and Merging Pixels`\n",
    "\n",
    "1. Understand the concept of splitting an image into RGB channels and merging them back. \n",
    "2. Apply the provided code to an image and observe the changes."
   ]
  },
  {
   "cell_type": "code",
   "execution_count": null,
   "metadata": {},
   "outputs": [],
   "source": [
    "# Your code here\n",
    "from PIL import Image\n",
    "\n",
    "image = Image.open(\"1.jpg\")\n",
    "image_r, image_g, image_b = image.split()\n",
    "merged_image = Image.merge(\"RGB\", (image_b, image_r, image_g))\n",
    "merged_image\n"
   ]
  },
  {
   "cell_type": "markdown",
   "metadata": {},
   "source": [
    "## Applying a Color Filter\n",
    "In this example, we split the image into RGB channels, apply a color filter using the `apply_color_filter` function, and then merge the updated channels into one image."
   ]
  },
  {
   "cell_type": "code",
   "execution_count": null,
   "metadata": {},
   "outputs": [],
   "source": [
    "from PIL import Image\n",
    "\n",
    "def apply_color_filter(image_r, image_g, image_b):\n",
    "    # Increase red intensity\n",
    "    image_r = image_r.point(lambda i: i * 1.5)\n",
    "    # Decrease green intensity\n",
    "    image_g = image_g.point(lambda i: i * 0.5)\n",
    "    # Maintain blue intensity unchanged\n",
    "    image_b = image_b.point(lambda i: i)\n",
    "    return image_r, image_g, image_b\n",
    "\n",
    "def split_and_merge(image):\n",
    "    image_r, image_g, image_b = image.split()\n",
    "    image_r, image_g, image_b = apply_color_filter(image_r, image_g, image_b)\n",
    "    merged_image = Image.merge(\"RGB\", (image_r, image_g, image_b))\n",
    "    return merged_image\n",
    "\n",
    "image = Image.open(\"image.jpg\")\n",
    "merged_image = split_and_merge(image)\n",
    "merged_image.save(\"image_filtered.jpg\")\n"
   ]
  },
  {
   "cell_type": "markdown",
   "metadata": {},
   "source": [
    "# `Quick assignment 5: Applying a Color Filter`\n",
    "\n",
    "1. Modify the `color filter` in the provided code to create a custom effect. \n",
    "1. Apply the updated filter to an image and compare the results."
   ]
  },
  {
   "cell_type": "code",
   "execution_count": null,
   "metadata": {},
   "outputs": [],
   "source": [
    "# Your code here\n",
    "from PIL import Image\n",
    "\n",
    "image = Image.open(\"1.jpg\")\n",
    "image_r, image_g, image_b = image.split()\n",
    "image_r = image_r.point(lambda x: x * 7)\n",
    "merged_image = Image.merge(\"RGB\", (image_r, image_g, image_b))\n",
    "merged_image"
   ]
  },
  {
   "cell_type": "markdown",
   "metadata": {},
   "source": [
    "## Filters\n",
    "Pillow provides various built-in effects accessible through the `ImageFilter` class."
   ]
  },
  {
   "cell_type": "code",
   "execution_count": null,
   "metadata": {},
   "outputs": [],
   "source": [
    "from PIL import Image, ImageFilter\n",
    "\n",
    "image = Image.open(\"image.jpg\")\n",
    "blurred_image = image.filter(ImageFilter.BLUR)\n",
    "blurred_image.save(\"image_blurred.jpg\")\n",
    "\n",
    "image = Image.open(\"image.jpg\")\n",
    "contour_image = image.filter(ImageFilter.CONTOUR)\n",
    "contour_image.save(\"image_contour.jpg\")\n",
    "\n",
    "image = Image.open(\"image.jpg\")\n",
    "sharpen_image = image.filter(ImageFilter.SHARPEN)\n",
    "sharpen_image.save(\"image_sharpen.jpg\")"
   ]
  },
  {
   "cell_type": "markdown",
   "metadata": {},
   "source": [
    "# `Quick assignment 6: Filters`\n",
    "\n",
    "1. Experiment with different filters from the `ImageFilter` class. \n",
    "1. Apply `blur`, `contour`, and `sharpen` filters to an image separately and observe the visual changes."
   ]
  },
  {
   "cell_type": "code",
   "execution_count": null,
   "metadata": {},
   "outputs": [],
   "source": [
    "# Your code here\n",
    "from PIL import Image, ImageFilter\n",
    "\n",
    "image = Image.open(\"1.jpg\")\n",
    "# image_filter01 = image.filter(ImageFilter.BoxBlur(10))\n",
    "# image_filter01 = image.filter(ImageFilter.GaussianBlur)\n",
    "# image_filter01 = image.filter(ImageFilter.MedianFilter(3))\n",
    "image_filter01 = image.filter(ImageFilter.BLUR)\n",
    "# image_filter01 = image.filter(ImageFilter.CONTOUR)\n",
    "#image_filter01 = image.filter(ImageFilter.SHARPEN)\n",
    "image_filter01"
   ]
  },
  {
   "cell_type": "markdown",
   "metadata": {},
   "source": [
    "For more information on different effects, [refer to the Pillow documentation](https://pillow.readthedocs.io/en/stable/reference/ImageFilter.html).\n",
    "\n",
    "## Saving an Image"
   ]
  },
  {
   "cell_type": "code",
   "execution_count": null,
   "metadata": {},
   "outputs": [],
   "source": [
    "from PIL import Image\n",
    "\n",
    "# Open the image\n",
    "image = Image.open(\"image.jpg\")\n",
    "\n",
    "# Perform desired manipulations on the image\n",
    "# ... (manipulation code here)\n",
    "\n",
    "# Save the image with the specified name and format\n",
    "image.save(\"image_edited.png\", \"PNG\")\n"
   ]
  },
  {
   "cell_type": "markdown",
   "metadata": {},
   "source": [
    "# `Quick assignment 7: Saving an Image`\n",
    "\n",
    "1. Write a Python script that opens an image, performs a simple manipulation (e.g., resizing), and saves the edited image with a new name and format."
   ]
  },
  {
   "cell_type": "code",
   "execution_count": null,
   "metadata": {},
   "outputs": [],
   "source": [
    "# Your code here\n",
    "from PIL import Image\n",
    "\n",
    "image = Image.open(\"image.jpg\")\n",
    "resise = (150, 150)\n",
    "resized_image = image.resize(resise)\n",
    "resized_image.save(\"2.png\", \"PNG\")"
   ]
  },
  {
   "cell_type": "code",
   "execution_count": null,
   "metadata": {},
   "outputs": [],
   "source": [
    "from PIL import Image\n",
    "\n",
    "image = Image.open(\"image.jpg\")\n",
    "new_size = (850, 330, 1000, 480)\n",
    "image = image.crop(new_size)\n",
    "new_size_128 = (128, 128)\n",
    "image = image.resize(new_size_128)\n",
    "\n",
    "logo_size = (30, 50)\n",
    "image_logo = Image.open(\"ai_guy.webp\")\n",
    "image_logo = image_logo.resize(logo_size)\n",
    "image_logo.save(\"image_logo.png\", \"PNG\")\n",
    "\n",
    "bw_image = image.convert(\"L\")\n",
    "paste_coord = (new_size_128[0] - logo_size[0], 0)\n",
    "bw_image.paste(image_logo, paste_coord)\n",
    "\n",
    "bw_image\n"
   ]
  }
 ],
 "metadata": {
  "kernelspec": {
   "display_name": "Python 3",
   "language": "python",
   "name": "python3"
  },
  "language_info": {
   "codemirror_mode": {
    "name": "ipython",
    "version": 3
   },
   "file_extension": ".py",
   "mimetype": "text/x-python",
   "name": "python",
   "nbconvert_exporter": "python",
   "pygments_lexer": "ipython3",
   "version": "3.11.7"
  }
 },
 "nbformat": 4,
 "nbformat_minor": 2
}
